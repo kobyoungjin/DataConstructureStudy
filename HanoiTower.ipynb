{
  "nbformat": 4,
  "nbformat_minor": 0,
  "metadata": {
    "colab": {
      "provenance": [],
      "authorship_tag": "ABX9TyM80s3WSEfTzB1eRlFTtnUc",
      "include_colab_link": true
    },
    "kernelspec": {
      "name": "python3",
      "display_name": "Python 3"
    },
    "language_info": {
      "name": "python"
    }
  },
  "cells": [
    {
      "cell_type": "markdown",
      "metadata": {
        "id": "view-in-github",
        "colab_type": "text"
      },
      "source": [
        "<a href=\"https://colab.research.google.com/github/kobyoungjin/DataConstructureStudy/blob/2%EC%A3%BC%EC%B0%A8---%EC%9E%AC%EA%B7%80%2C-%EB%A6%AC%EC%8A%A4%ED%8A%B8/HanoiTower.ipynb\" target=\"_parent\"><img src=\"https://colab.research.google.com/assets/colab-badge.svg\" alt=\"Open In Colab\"/></a>"
      ]
    },
    {
      "cell_type": "code",
      "execution_count": 12,
      "metadata": {
        "id": "ejkOT4Fzd2HZ"
      },
      "outputs": [],
      "source": [
        "def hanoi(num, start, tmp, dest):\n",
        "  \n",
        "  if num == 1:\n",
        "    print(\"1 번 원반을\", start,\"번 기둥에서\", dest,\"번 기둥로 옮긴다.\")\n",
        "    return\n",
        "\n",
        "  hanoi(num -1, start, dest, tmp)\n",
        "  print(num,\"번 원반을\", start,\"번 기둥에서\", dest,\"번 기둥로 옮긴다.\")\n",
        "  hanoi(num -1, tmp, start, dest)"
      ]
    },
    {
      "cell_type": "code",
      "source": [
        "if __name__ == '__main__':\n",
        "\n",
        "  hanoi(3, 1, 2, 3)"
      ],
      "metadata": {
        "colab": {
          "base_uri": "https://localhost:8080/"
        },
        "id": "mAc-3pi5e_Q5",
        "outputId": "d37195f9-cd2a-4cf6-c6aa-7a36d1d23d8a"
      },
      "execution_count": 13,
      "outputs": [
        {
          "output_type": "stream",
          "name": "stdout",
          "text": [
            "1 번 원반을 1 번 기둥에서 3 번 기둥로 옮긴다.\n",
            "2 번 원반을 1 번 기둥에서 2 번 기둥로 옮긴다.\n",
            "1 번 원반을 3 번 기둥에서 2 번 기둥로 옮긴다.\n",
            "3 번 원반을 1 번 기둥에서 3 번 기둥로 옮긴다.\n",
            "1 번 원반을 2 번 기둥에서 1 번 기둥로 옮긴다.\n",
            "2 번 원반을 2 번 기둥에서 3 번 기둥로 옮긴다.\n",
            "1 번 원반을 1 번 기둥에서 3 번 기둥로 옮긴다.\n"
          ]
        }
      ]
    }
  ]
}