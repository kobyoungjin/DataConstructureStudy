{
  "nbformat": 4,
  "nbformat_minor": 0,
  "metadata": {
    "colab": {
      "provenance": [],
      "authorship_tag": "ABX9TyOUVN1LZ49BaJpLyvG+26DM",
      "include_colab_link": true
    },
    "kernelspec": {
      "name": "python3",
      "display_name": "Python 3"
    },
    "language_info": {
      "name": "python"
    }
  },
  "cells": [
    {
      "cell_type": "markdown",
      "metadata": {
        "id": "view-in-github",
        "colab_type": "text"
      },
      "source": [
        "<a href=\"https://colab.research.google.com/github/kobyoungjin/DataConstructureStudy/blob/3%EC%A3%BC%EC%B0%A8---%ED%8A%B8%EB%A6%AC/%EC%9D%B4%EC%A7%84%ED%8A%B8%EB%A6%AC_%EC%88%9C%ED%9A%8C.ipynb\" target=\"_parent\"><img src=\"https://colab.research.google.com/assets/colab-badge.svg\" alt=\"Open In Colab\"/></a>"
      ]
    },
    {
      "cell_type": "code",
      "execution_count": null,
      "metadata": {
        "id": "OyZ042CNRbRl"
      },
      "outputs": [],
      "source": [
        "class Node(object):\n",
        "    def __init__(self, item):\n",
        "        self.item = item\n",
        "        self.left = self.right = None\n",
        "        \n",
        "class BinaryTree(object):\n",
        "    def __init__(self):\n",
        "        self.root = None\n",
        "    \n",
        "    def preorder(self):\n",
        "        def _preorder(node):\n",
        "            print(node.item, end=' ')\n",
        "            if node.left:\n",
        "                _preorder(node.left)\n",
        "            if node.right:\n",
        "                _preorder(node.right)\n",
        "        _preorder(self.root)\n",
        "    \n",
        "    def inorder(self):\n",
        "        def _inorder(node):\n",
        "            if node.left:\n",
        "                _inorder(node.left)\n",
        "            print(node.item, end=' ')\n",
        "            if node.right:\n",
        "                _inorder(node.right)\n",
        "        _inorder(self.root)\n",
        "    \n",
        "    def postorder(self):\n",
        "        def _postorder(node):\n",
        "            if node.left:\n",
        "                _postorder(node.left)\n",
        "            if node.right:\n",
        "                _postorder(node.right)\n",
        "            print(node.item, end=' ')\n",
        "        _postorder(self.root)   \n",
        "\n"
      ]
    },
    {
      "cell_type": "code",
      "source": [
        "\n",
        "bT = BinaryTree()\n",
        "n1 = Node(1)\n",
        "n2 = Node(2)\n",
        "n3 = Node(3)\n",
        "n4 = Node(4)\n",
        "n5 = Node(5)\n",
        "n6 = Node(6)\n",
        "n7 = Node(7)\n",
        "n8 = Node(8)\n",
        "\n",
        "bT.root = n1\n",
        "n1.left = n2\n",
        "n1.right = n3\n",
        "n2.left = n4\n",
        "n2.right = n5\n",
        "n3.left = n6\n",
        "n3.right = n7\n",
        "n4.left = n8\n",
        "\n",
        "print('preorder')\n",
        "bT.preorder()\n",
        "\n",
        "print('\\ninorder')\n",
        "bT.inorder()\n",
        "\n",
        "print('\\npostorder')\n",
        "bT.postorder()"
      ],
      "metadata": {
        "colab": {
          "base_uri": "https://localhost:8080/"
        },
        "id": "j9cUG-t0R9Pi",
        "outputId": "0e7fc483-a87e-464c-ca72-ab8c3367bf8a"
      },
      "execution_count": null,
      "outputs": [
        {
          "output_type": "stream",
          "name": "stdout",
          "text": [
            "preorder\n",
            "1 2 4 8 5 3 6 7 \n",
            "inorder\n",
            "8 4 2 5 1 6 3 7 \n",
            "postorder\n",
            "8 4 5 2 6 7 3 1 "
          ]
        }
      ]
    }
  ]
}