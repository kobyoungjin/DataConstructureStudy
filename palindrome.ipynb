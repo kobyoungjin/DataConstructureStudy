{
  "nbformat": 4,
  "nbformat_minor": 0,
  "metadata": {
    "colab": {
      "provenance": [],
      "collapsed_sections": [],
      "include_colab_link": true
    },
    "kernelspec": {
      "name": "python3",
      "display_name": "Python 3"
    },
    "language_info": {
      "name": "python"
    }
  },
  "cells": [
    {
      "cell_type": "markdown",
      "metadata": {
        "id": "view-in-github",
        "colab_type": "text"
      },
      "source": [
        "<a href=\"https://colab.research.google.com/github/kobyoungjin/DataConstructureStudy/blob/1%EC%A3%BC%EC%B0%A8-%EC%8A%A4%ED%83%9D%2C-%ED%81%90/palindrome.ipynb\" target=\"_parent\"><img src=\"https://colab.research.google.com/assets/colab-badge.svg\" alt=\"Open In Colab\"/></a>"
      ]
    },
    {
      "cell_type": "code",
      "source": [
        "class ListStack:\n",
        "\tdef __init__(self):\n",
        "\t\tself.__stack = []\n",
        "\n",
        "\tdef push(self, x):\n",
        "\t\tself.__stack.append(x)\n",
        "\n",
        "\tdef pop(self):\n",
        "\t\treturn self.__stack.pop()\n",
        "\n",
        "\tdef top(self):\n",
        "\t\tif self.isEmpty():\n",
        "\t\t\treturn None\n",
        "\t\telse:\n",
        "\t\t\treturn self.__stack[-1]\n",
        "\n",
        "\tdef isEmpty(self) -> bool:\n",
        "\t\treturn not bool(self.__stack)\n",
        "\n",
        "\tdef popAll(self):\n",
        "\t\tself.__stack.clear() \n",
        "\n",
        "\tdef printStack(self):\n",
        "\t\tprint(\"Stack from top:\", end = ' ')\n",
        "\t\tfor i in range(len(self.__stack)-1, -1, -1):\n",
        "\t\t\tprint(self.__stack[i], end = ' ')\n",
        "\t\tprint()\n",
        "\n",
        "# 코드 6-6"
      ],
      "metadata": {
        "id": "aTa5APIe0-cH"
      },
      "execution_count": null,
      "outputs": []
    },
    {
      "cell_type": "code",
      "source": [
        "class ListQueue:\n",
        "\tdef __init__(self):\n",
        "\t\tself.__queue = []\n",
        "\n",
        "\tdef enqueue(self, x):\n",
        "\t\tself.__queue.append(x)\n",
        "\n",
        "\tdef dequeue(self):\n",
        "\t\treturn self.__queue.pop(0) # .pop(0): 리스트의 첫 원소를 삭제한 후 원소 리턴\n",
        "\n",
        "\tdef front(self):\n",
        "\t\tif self.isEmpty():\n",
        "\t\t\treturn None\n",
        "\t\telse:\n",
        "\t\t\treturn self.__queue[0]\n",
        "\n",
        "\tdef isEmpty(self) -> bool:\n",
        "\t\treturn (len(self.__queue) == 0);\n",
        " \n",
        "\tdef dequeueAll(self):\n",
        "\t\tself.__queue.clear()\n",
        "\n",
        "\tdef printQueue(self):\n",
        "\t\tprint(\"Queue from front:\", end = ' ')\n",
        "\t\tfor i in range(len(self.__queue)):\n",
        "\t\t\tprint(self.__queue[i], end = ' ')\n",
        "\t\tprint()\n"
      ],
      "metadata": {
        "id": "sD9m8Flm5G4_"
      },
      "execution_count": null,
      "outputs": []
    },
    {
      "cell_type": "code",
      "execution_count": null,
      "metadata": {
        "id": "quw3Na7R07OB"
      },
      "outputs": [],
      "source": [
        "# from DS.stack.listStack import *\n",
        "# from DS.queue.listQueue import *\n",
        "\n",
        "def isPalindrome(A) -> bool:\n",
        "\ts = ListStack()\n",
        "\tq = ListQueue()\n",
        " \n",
        "\tfor i in range(len(A)):\n",
        "\t\ts.push(A[i])\n",
        "\t\tq.enqueue(A[i])\n",
        "\n",
        "\twhile (not q.isEmpty()) and s.pop() == q.dequeue():\n",
        "\t\t{}\n",
        "\n",
        "\tif q.isEmpty():\n",
        "\t\treturn True\n",
        "\telse:\n",
        "\t\treturn False\n",
        "\n",
        "def main():\n",
        "\tprint(\"Palindrome Check!\")\n",
        "\tstr = 'lioninoil' # 테스트 문자열\n",
        "\tt = isPalindrome(str)\n",
        "\tprint(str, \" is Palindrome?: \", t)\n",
        "\n",
        "if __name__ == \"__main__\":\n",
        "\tmain()"
      ]
    }
  ]
}