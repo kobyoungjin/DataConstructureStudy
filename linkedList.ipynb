{
  "nbformat": 4,
  "nbformat_minor": 0,
  "metadata": {
    "colab": {
      "provenance": [],
      "collapsed_sections": [],
      "include_colab_link": true
    },
    "kernelspec": {
      "name": "python3",
      "display_name": "Python 3"
    },
    "language_info": {
      "name": "python"
    }
  },
  "cells": [
    {
      "cell_type": "markdown",
      "metadata": {
        "id": "view-in-github",
        "colab_type": "text"
      },
      "source": [
        "<a href=\"https://colab.research.google.com/github/kobyoungjin/DataConstructureStudy/blob/2%EC%A3%BC%EC%B0%A8---%EC%9E%AC%EA%B7%80%2C-%EB%A6%AC%EC%8A%A4%ED%8A%B8/linkedList.ipynb\" target=\"_parent\"><img src=\"https://colab.research.google.com/assets/colab-badge.svg\" alt=\"Open In Colab\"/></a>"
      ]
    },
    {
      "cell_type": "code",
      "execution_count": 8,
      "metadata": {
        "id": "V7SQGeG0ezh0"
      },
      "outputs": [],
      "source": [
        "class ListNode:\n",
        "\tdef __init__(self, newItem, nextNode:'ListNode'):\n",
        "\t\tself.item = newItem\n",
        "\t\tself.next = nextNode\n",
        "\n",
        "class LinkedListBasic:\n",
        "\tdef __init__(self):\n",
        "\t\tself.__head = ListNode('dummy', None)\n",
        "\t\tself.__numItems = 0\n",
        "\n",
        "\t# 몇번째 인덱스에 삽입할때 사용\n",
        "\tdef insert(self, i:int, newItem):\n",
        "\t\tif i >= 0 and i <= self.__numItems:\n",
        "\t\t\tprev = self.__getNode(i - 1)\n",
        "\t\t\tnewNode = ListNode(newItem, prev.next)\n",
        "\t\t\tprev.next = newNode\n",
        "\t\t\tself.__numItems += 1\n",
        "\t\telse:\n",
        "\t\t\tprint(\"index\", i, \": out of bound in insert()\") # 필요 시 에러 처리\n",
        " \n",
        " # 그냥 맨뒤 삽입\n",
        "\tdef append(self, newItem):\n",
        "\t\tprev = self.__getNode(self.__numItems - 1)\n",
        "\t\tnewNode = ListNode(newItem, prev.next)\n",
        "\t\tprev.next = newNode\n",
        "\t\tself.__numItems += 1\n",
        "\n",
        "\n",
        "\tdef pop(self, i:int):   # i번 노드 삭제. 고정 파라미터\n",
        "\t\tif (i >= 0 and i <= self.__numItems-1):\n",
        "\t\t\tprev = self.__getNode(i - 1)\n",
        "\t\t\tcurr = prev.next\n",
        "\t\t\tprev.next = curr.next\n",
        "\t\t\tretItem = curr.item\n",
        "\t\t\tself.__numItems -= 1\n",
        "\t\t\treturn retItem\n",
        "\t\telse:\n",
        "\t\t\treturn None\n",
        "\t\n",
        "\t# 연결 리스트의 원소 x 삭제하기 (더미 헤드를 두는 대표 버전)\n",
        "\tdef remove(self, x):\n",
        "\t\t(prev, curr) = self.__findNode(x)\n",
        "\t\tif curr != None:\n",
        "\t\t\tprev.next = curr.next\n",
        "\t\t\tself.__numItems -= 1\n",
        "\t\t\treturn x\n",
        "\t\telse:\n",
        "\t\t\treturn None\n",
        " \n",
        "\t# x가 연결 리스트의 몇 번 원소인지 알려주기\n",
        "\tdef index(self, x) -> int:\n",
        "\t\tcurr = self.__head.next\t # 0번 노드:  더미 헤드 다음 노드\n",
        "\t\tfor index in range(self.__numItems):\n",
        "\t\t\tif curr.item == x:\n",
        "\t\t\t\treturn index\n",
        "\t\t\telse:\n",
        "\t\t\t\tcurr = curr.next\n",
        "\t\treturn -2 # 안 쓰는 인덱스\n",
        "\n",
        "\tdef isEmpty(self) -> bool:\n",
        "\t\treturn self.__numItems == 0\n",
        "\n",
        "\tdef size(self) -> int:\n",
        "\t\treturn self.__numItems\n",
        "\n",
        "\tdef clear(self):\n",
        "\t\tself.__head = ListNode(\"dummy\", None)\n",
        "\t\tself.__numItems = 0\n",
        "\n",
        "\tdef count(self, x) -> int:\n",
        "\t\tcnt = 0\n",
        "\t\tcurr = self.__head.next  # 0번 노드\n",
        "\t\twhile curr != None:\n",
        "\t\t\tif curr.item == x:\n",
        "\t\t\t\t\tcnt += 1\n",
        "\t\t\tcurr = curr.next\n",
        "\t\treturn cnt\n",
        "\n",
        "\tdef extend(self, a): # 여기서 a는 self와 같은 타입의 리스트\n",
        "\t\tfor index in range(a.size()):\n",
        "\t\t\tself.append(a.get(index))\n",
        "\n",
        " \n",
        "\tdef __findNode(self, x) -> (ListNode, ListNode):\n",
        "\t\tprev = self.__head  # 더미 헤드\n",
        "\t\tcurr = prev.next    # 0번 노드\n",
        "\t\twhile curr != None:\n",
        "\t\t\tif curr.item == x:\n",
        "\t\t\t\treturn (prev, curr)\n",
        "\t\t\telse:\n",
        "\t\t\t\tprev = curr; curr = curr.next\n",
        "\t\treturn (None, None)\n",
        "\n",
        "\t# [알고리즘 5-6] 구현: 연결 리스트의 i번 노드 알려주기\n",
        "\tdef __getNode(self, i:int) -> ListNode:\n",
        "\t\tcurr = self.__head # 더미 헤드, index: -1\n",
        "\t\tfor index in range(i+1):\n",
        "\t\t\tcurr = curr.next\n",
        "\t\treturn curr\n",
        "\n",
        "\tdef printList(self):\n",
        "\t\tcurr = self.__head.next # 0번 노드: 더미 헤드 다음 노드\n",
        "\t\twhile curr != None:\n",
        "\t\t\tprint(curr.item, end = ' ')\n",
        "\t\t\tcurr = curr.next\n",
        "\t\tprint()\n",
        "\t\n"
      ]
    },
    {
      "cell_type": "code",
      "source": [
        "if __name__ == '__main__':\n",
        "  \n",
        "    list = LinkedListBasic()\n",
        "    print(list.isEmpty())\n",
        "    list.append(1);    list.printList()\n",
        "    list.append(2);    list.printList()\n",
        "    list.append(3);    list.printList()\n",
        "    list.insert(1, 4);    list.printList()\n",
        "    list.insert(0, 8);     list.printList()\n",
        "    list.remove(3);    list.printList()"
      ],
      "metadata": {
        "colab": {
          "base_uri": "https://localhost:8080/"
        },
        "id": "sFs1v9JQCM0F",
        "outputId": "ad6538c6-37f7-4af0-d785-c89143ba2384"
      },
      "execution_count": 17,
      "outputs": [
        {
          "output_type": "stream",
          "name": "stdout",
          "text": [
            "True\n",
            "1 \n",
            "1 2 \n",
            "1 2 3 \n",
            "1 4 2 3 \n",
            "8 1 4 2 3 \n",
            "8 1 4 2 \n"
          ]
        }
      ]
    }
  ]
}