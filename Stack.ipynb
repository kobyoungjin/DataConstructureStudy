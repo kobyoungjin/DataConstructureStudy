{
  "nbformat": 4,
  "nbformat_minor": 0,
  "metadata": {
    "colab": {
      "provenance": [],
      "collapsed_sections": [],
      "authorship_tag": "ABX9TyPp34Rs/h8+0Nx4jPpHM/XP",
      "include_colab_link": true
    },
    "kernelspec": {
      "name": "python3",
      "display_name": "Python 3"
    },
    "language_info": {
      "name": "python"
    }
  },
  "cells": [
    {
      "cell_type": "markdown",
      "metadata": {
        "id": "view-in-github",
        "colab_type": "text"
      },
      "source": [
        "<a href=\"https://colab.research.google.com/github/kobyoungjin/DataConstructureStudy/blob/1%EC%A3%BC%EC%B0%A8-%EC%8A%A4%ED%83%9D%2C-%ED%81%90/Stack.ipynb\" target=\"_parent\"><img src=\"https://colab.research.google.com/assets/colab-badge.svg\" alt=\"Open In Colab\"/></a>"
      ]
    },
    {
      "cell_type": "code",
      "execution_count": null,
      "metadata": {
        "id": "dynD0Wkoefjg"
      },
      "outputs": [],
      "source": [
        "class Stack:\n",
        "    def __init__ (self):   #리스트를 이용하여 스택 생성\n",
        "        self.stack = []\n",
        "\n",
        "    def push (self, data):\n",
        "        self.stack.append(data)\n",
        "\n",
        "    def pop(self):\n",
        "        if not self.isEmpty():   # if Stack is not empty\n",
        "            return self.stack.pop(-1)\n",
        "        else:                # pop and return \n",
        "            print(\"Stack underflow\")\n",
        "            exit() \n",
        "  \n",
        "    def peek(self):         # 스택에서 top의 값을 읽어온다\n",
        "        if not self.isEmpty():\n",
        "            return self.stack[-1]\n",
        "        else:\n",
        "            print(\"underflow\")\n",
        "            exit()\n",
        "                \n",
        "    def isEmpty(self):      # 스택이 비어있는지 확인\n",
        "        if len(self.stack) == 0:\n",
        "          return True\n",
        "        return False\n",
        "        \n",
        "    def size(self):        # 스택 크기 반환\n",
        "        return len(self.stack)\n",
        "    "
      ]
    },
    {
      "cell_type": "code",
      "source": [
        "if __name__==\"__main__\":        # stack\n",
        "\n",
        "  s = Stack()\n",
        "  s.push(3)\n",
        "  s.push(5)\n",
        "  s.push(12)\n",
        "  print(s.peek())\n",
        "  print(s.pop())  \n",
        "  print(s.pop())\n",
        "  print(s.pop())\n",
        "  print(s.pop())\n"
      ],
      "metadata": {
        "colab": {
          "base_uri": "https://localhost:8080/"
        },
        "id": "z8NH2oPLin-3",
        "outputId": "348c7190-6e9d-4f5b-cdfb-e92f9196f349"
      },
      "execution_count": null,
      "outputs": [
        {
          "output_type": "stream",
          "name": "stdout",
          "text": [
            "12\n",
            "12\n",
            "5\n",
            "3\n",
            "Stack underflow\n",
            "None\n"
          ]
        }
      ]
    },
    {
      "cell_type": "code",
      "source": [
        "class Queue:\n",
        "    def __init__(self):\n",
        "      self.queue = []\n",
        "\n",
        "    def enqueue(self, value):   # enqueue 기능 구현\n",
        "      self.queue.append(value)\n",
        "        \n",
        "    def dequeue(self):          # dequeue 기능 구현\n",
        "        if self.isEmpty():\n",
        "          print(\"no element\")\n",
        "          return None\n",
        "        val = self.queue.pop(0)\n",
        "        return val\n",
        "      \n",
        "    def peek(self):            # 맨앞 숫자 찾기\n",
        "      if self.isEmpty():\n",
        "        print(\"no element to peek\")\n",
        "        return None\n",
        "      print(\"맨앞 숫자\")\n",
        "      return self.queue[0]\n",
        "        \n",
        "    def isEmpty(self):\n",
        "      if len(self.queue) == 0:\n",
        "        return True\n",
        "      return False"
      ],
      "metadata": {
        "id": "s9ersR2SjKS4"
      },
      "execution_count": null,
      "outputs": []
    },
    {
      "cell_type": "code",
      "source": [
        "if __name__ == \"__main__\":         # queue\n",
        "\n",
        "    q = Queue()\n",
        "    q.enqueue(1)\n",
        "    q.enqueue(2)\n",
        "    q.enqueue(5)\n",
        "    q.enqueue(6)\n",
        "    print(q.dequeue())\n",
        "    print(q.dequeue())\n",
        "    print(q.dequeue())\n",
        "    q.enqueue(3)\n",
        "    print(q.isEmpty())"
      ],
      "metadata": {
        "colab": {
          "base_uri": "https://localhost:8080/"
        },
        "id": "fMSWHEIijd7E",
        "outputId": "25efaeb1-5cee-4a55-92f7-3c48d0d1e9e6"
      },
      "execution_count": null,
      "outputs": [
        {
          "output_type": "stream",
          "name": "stdout",
          "text": [
            "1\n",
            "2\n",
            "5\n",
            "False\n"
          ]
        }
      ]
    },
    {
      "cell_type": "code",
      "source": [
        "class BalancingCheck:\n",
        "    def __init__ (self):   #리스트를 이용하여 스택 생성\n",
        "        self.bal = []\n",
        "\n",
        "    def check(text):\n",
        "      stack = Stack()\n",
        "\n",
        "      for ch in text:\n",
        "        if ch in '([{':\n",
        "          stack.push(ch)\n",
        "        elif ch in ')]}':\n",
        "          out = stack.pop()\n",
        "          \n",
        "          if ch == ')' and out == '(':\n",
        "            pass\n",
        "          elif ch == ']' and out == '[':\n",
        "            pass\n",
        "          elif ch == '}' and out == '{':\n",
        "            pass\n",
        "          else:\n",
        "            return False\n",
        "        else:\n",
        "          pass\n",
        "      if stack.isEmpty():\n",
        "        return True\n",
        "      else:\n",
        "        return False"
      ],
      "metadata": {
        "id": "CDvet6M2sVvl"
      },
      "execution_count": null,
      "outputs": []
    },
    {
      "cell_type": "markdown",
      "source": [],
      "metadata": {
        "id": "s7XE0O-Hf_q5"
      }
    },
    {
      "cell_type": "code",
      "source": [
        "if __name__ == \"__main__\": \n",
        "\n",
        "  bal = BalancingCheck\n",
        "\n",
        "  print(bal.check('()'))\n",
        "  print(bal.check(')('))\n",
        "  print(bal.check('(()))'))"
      ],
      "metadata": {
        "colab": {
          "base_uri": "https://localhost:8080/"
        },
        "id": "s9qJhFTyw3uO",
        "outputId": "1e209d78-818d-4bcf-ea06-88161986c883"
      },
      "execution_count": null,
      "outputs": [
        {
          "output_type": "stream",
          "name": "stdout",
          "text": [
            "True\n",
            "Stack underflow\n",
            "False\n",
            "Stack underflow\n",
            "False\n"
          ]
        }
      ]
    }
  ]
}